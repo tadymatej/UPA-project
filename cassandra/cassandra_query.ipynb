{
 "cells": [
  {
   "cell_type": "code",
   "execution_count": 8,
   "metadata": {},
   "outputs": [
    {
     "data": {
      "text/plain": [
       "<cassandra.cluster.ResultSet at 0x11f597fd0>"
      ]
     },
     "execution_count": 8,
     "metadata": {},
     "output_type": "execute_result"
    }
   ],
   "source": [
    "import json\n",
    "\n",
    "from cassandra.auth import PlainTextAuthProvider\n",
    "from cassandra.cluster import Cluster\n",
    "\n",
    "ASTRA_DB_APPLICATION_TOKEN = \"\"\n",
    "ASTRA_TOKEN_PATH = 'data/UPA-token4.json'\n",
    "with open(ASTRA_TOKEN_PATH, \"r\") as f:\n",
    "    creds = json.load(f)\n",
    "    ASTRA_DB_APPLICATION_TOKEN = creds[\"token\"]\n",
    "\n",
    "cluster = Cluster(cloud={\n",
    "    \"secure_connect_bundle\": \"data/secure-connect-upa.zip\",\n",
    "},\n",
    "    auth_provider=PlainTextAuthProvider(\n",
    "    \"token\",\n",
    "    ASTRA_DB_APPLICATION_TOKEN,\n",
    "),)\n",
    "session = cluster.connect(\"bamboo\")\n",
    "session.execute(\"USE bamboo\")"
   ]
  },
  {
   "cell_type": "code",
   "execution_count": 14,
   "metadata": {},
   "outputs": [
    {
     "name": "stdout",
     "output_type": "stream",
     "text": [
      "parking place: Parkoviště Veveří , free: 87\n",
      "parking place: Parkovací dům DOMINI PARK – Brno, Husova 712/14a, free: 231\n",
      "parking place: P+R u Ústředního hřbitova, free: 0\n",
      "parking place: P + R parkovací dům RIVER PARK, Polní 1033/35, free: 107\n",
      "parking place: Parkoviště Benešova - naproti hotelu Grand, free: 0\n",
      "parking place: Parkoviště Skořepka, free: 26\n",
      "parking place: Parking u Janáčkova divadla, free: 235\n",
      "parking place: P+R Líšeň u Zetoru, free: 178\n",
      "parking place: Parkovací dům PINKI PARK - Brno, Kopečná 998/24, free: 49\n"
     ]
    }
   ],
   "source": [
    "#  Zobrazeni volnych parkovacich mist pro jednotlive parkoviste\n",
    "res = session.execute(\"Select name, free from parking\")\n",
    "for row in res:\n",
    "    print(f\"parking place: {row.name}, free: {row.free}\")"
   ]
  }
 ],
 "metadata": {
  "kernelspec": {
   "display_name": ".venv",
   "language": "python",
   "name": "python3"
  },
  "language_info": {
   "codemirror_mode": {
    "name": "ipython",
    "version": 3
   },
   "file_extension": ".py",
   "mimetype": "text/x-python",
   "name": "python",
   "nbconvert_exporter": "python",
   "pygments_lexer": "ipython3",
   "version": "3.11.5"
  },
  "orig_nbformat": 4
 },
 "nbformat": 4,
 "nbformat_minor": 2
}
