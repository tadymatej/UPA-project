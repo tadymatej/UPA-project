{
 "cells": [
  {
   "cell_type": "code",
   "execution_count": 12,
   "metadata": {},
   "outputs": [
    {
     "data": {
      "text/plain": [
       "<cassandra.cluster.ResultSet at 0x106846350>"
      ]
     },
     "execution_count": 12,
     "metadata": {},
     "output_type": "execute_result"
    }
   ],
   "source": [
    "import json\n",
    "\n",
    "from cassandra.auth import PlainTextAuthProvider\n",
    "from cassandra.cluster import Cluster\n",
    "\n",
    "# Your JSON data\n",
    "json_data = {\n",
    "    \"type\": \"FeatureCollection\",\n",
    "    \"name\": \"firmy_firmy\",\n",
    "    # ... (the rest of your JSON)\n",
    "}\n",
    "\n",
    "with open('Firmy_v_Brno.geojson', 'r') as file:\n",
    "    json_data = json.load(file)\n",
    "\n",
    "ASTRA_DB_APPLICATION_TOKEN = \"\"\n",
    "ASTRA_TOKEN_PATH = 'UPA-token4.json'\n",
    "with open(ASTRA_TOKEN_PATH, \"r\") as f:\n",
    "    creds = json.load(f)\n",
    "    ASTRA_DB_APPLICATION_TOKEN = creds[\"token\"]\n",
    "# Function to extract properties from the JSON\n",
    "\n",
    "\n",
    "def extract_properties(data):\n",
    "    properties_list = []\n",
    "    features = data.get(\"features\", [])\n",
    "    for feature in features:\n",
    "        properties = feature.get(\"properties\", {})\n",
    "        properties_list.append(properties)\n",
    "    return properties_list\n",
    "\n",
    "\n",
    "# Extract properties from the JSON\n",
    "properties_data = extract_properties(json_data)\n",
    "\n",
    "\n",
    "cluster = Cluster(cloud={\n",
    "    \"secure_connect_bundle\": \"/Users/janzimola/Documents/VUT/UPA-project/secure-connect-upa.zip\",\n",
    "},\n",
    "    auth_provider=PlainTextAuthProvider(\n",
    "    \"token\",\n",
    "    ASTRA_DB_APPLICATION_TOKEN,\n",
    "),)\n",
    "session = cluster.connect(\"bamboo\")\n",
    "\n",
    "# Connect to the Cassandra cluster\n",
    "# cluster = Cluster(['localhost'])  # Replace with your Cassandra cluster address\n",
    "\n",
    "# # Create a session and keyspace\n",
    "# session = cluster.connect()\n",
    "# session.execute(\n",
    "#     \"CREATE KEYSPACE IF NOT EXISTS bamboo WITH replication = {'class': 'SimpleStrategy', 'replication_factor': 1}\")\n",
    "session.execute(\"USE bamboo\")"
   ]
  },
  {
   "cell_type": "code",
   "execution_count": 14,
   "metadata": {},
   "outputs": [
    {
     "name": "stdout",
     "output_type": "stream",
     "text": [
      "name: Parkoviště Veveří , cars: 53\n",
      "name: Parkovací dům DOMINI PARK – Brno, Husova 712/14a, cars: 136\n",
      "name: P+R u Ústředního hřbitova, cars: 173\n",
      "name: P + R parkovací dům RIVER PARK, Polní 1033/35, cars: 3\n",
      "name: Parkoviště Benešova - naproti hotelu Grand, cars: 80\n",
      "name: Parkoviště Skořepka, cars: 23\n",
      "name: Parking u Janáčkova divadla, cars: 144\n",
      "name: P+R Líšeň u Zetoru, cars: 46\n",
      "name: Parkovací dům PINKI PARK - Brno, Kopečná 998/24, cars: 39\n"
     ]
    }
   ],
   "source": [
    "\n",
    "res = session.execute(\"Select name, cars from parking\")\n",
    "for row in res:\n",
    "    print(f\"name: {row.name}, cars: {row.cars}\")"
   ]
  },
  {
   "cell_type": "code",
   "execution_count": null,
   "metadata": {},
   "outputs": [],
   "source": [
    "res = session.execute(\"Select name, adresa from bamboo.firmy LIMIT 20\")\n",
    "for row in res:\n",
    "    print(f\"name: {row.name}, adresa: {row.adresa}\")"
   ]
  },
  {
   "cell_type": "code",
   "execution_count": null,
   "metadata": {},
   "outputs": [],
   "source": []
  }
 ],
 "metadata": {
  "kernelspec": {
   "display_name": ".venv",
   "language": "python",
   "name": "python3"
  },
  "language_info": {
   "codemirror_mode": {
    "name": "ipython",
    "version": 3
   },
   "file_extension": ".py",
   "mimetype": "text/x-python",
   "name": "python",
   "nbconvert_exporter": "python",
   "pygments_lexer": "ipython3",
   "version": "3.11.5"
  },
  "orig_nbformat": 4
 },
 "nbformat": 4,
 "nbformat_minor": 2
}
