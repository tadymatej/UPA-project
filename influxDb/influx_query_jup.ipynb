{
 "cells": [
  {
   "cell_type": "code",
   "execution_count": 15,
   "metadata": {},
   "outputs": [],
   "source": [
    "from datetime import datetime, timedelta\n",
    "import seaborn as sns\n",
    "from influxdb_client_3 import InfluxDBClient3, Point, WritePrecision\n",
    "\n",
    "token = \"VHvj7OSCceMdybeuh9V3rYbjnCrC4ZYa1wql-8HTz8Kb50LNueyDXTMcKaKez6vaGP3wu_GSqaiPhworLoa2qQ==\"\n",
    "org = \"UPA\"\n",
    "host = \"https://us-east-1-1.aws.cloud2.influxdata.com\"\n",
    "\n",
    "client = InfluxDBClient3(host=host, token=token, org=org)\n",
    "database = \"UPA\"\n"
   ]
  },
  {
   "cell_type": "code",
   "execution_count": 16,
   "metadata": {},
   "outputs": [
    {
     "name": "stdout",
     "output_type": "stream",
     "text": [
      "       code                     name  no2_1h  pm10_1h  pm10_24h  pm2_5_1h  \\\n",
      "369   BBDNA  Brno - Dětská nemocnice    18.2     13.9      11.3       3.4   \n",
      "447   BBNVA     Brno-Úvoz (hot spot)    48.0     15.1      10.6       6.2   \n",
      "460   BBNYA              Brno-Tuřany    11.7     13.3       9.9       7.3   \n",
      "408   BBMSA        Brno-Svatoplukova    44.2      NaN       0.0       0.0   \n",
      "473   BBOMA             Brno-Komárov    26.4      NaN       0.0       0.0   \n",
      "...     ...                      ...     ...      ...       ...       ...   \n",
      "3956  BBMSA        Brno-Svatoplukova    50.7     18.9      28.1       5.2   \n",
      "4031  BBOMA             Brno-Komárov    15.1     13.9      28.4       4.6   \n",
      "3986  BBNIA               Brno-Líšeň     NaN      5.5      20.1       1.0   \n",
      "3971  BBMVA          Brno-Výstaviště     NaN      NaN       0.0       0.0   \n",
      "3926  BBMAA           Brno-Arboretum     6.3     11.4      20.2       4.7   \n",
      "\n",
      "                    time  \n",
      "369  2023-10-02 10:28:56  \n",
      "447  2023-10-02 10:28:56  \n",
      "460  2023-10-02 10:28:56  \n",
      "408  2023-10-02 10:28:56  \n",
      "473  2023-10-02 10:28:56  \n",
      "...                  ...  \n",
      "3956 2023-10-24 17:33:30  \n",
      "4031 2023-10-24 17:33:30  \n",
      "3986 2023-10-24 17:33:30  \n",
      "3971 2023-10-24 17:33:30  \n",
      "3926 2023-10-24 17:33:30  \n",
      "\n",
      "[4221 rows x 7 columns]\n"
     ]
    }
   ],
   "source": [
    "# Zobrazeni dat z poslednich 30 dni\n",
    "query = \"\"\"\n",
    "SELECT *\n",
    "FROM \"data_ovzdusi2\"\n",
    "WHERE\n",
    "time >= now() - interval '30 day' AND time <= now()\n",
    "\"\"\"\n",
    "\n",
    "# Execute the query\n",
    "table = client.query(query=query, database=\"UPA\", language='sql')\n",
    "\n",
    "# Convert to dataframe\n",
    "df = table.to_pandas().sort_values(by=\"time\")\n",
    "print(df)\n"
   ]
  },
  {
   "cell_type": "code",
   "execution_count": 5,
   "metadata": {},
   "outputs": [
    {
     "name": "stdout",
     "output_type": "stream",
     "text": [
      "   iox::measurement       time   code   no2_mean\n",
      "0     data_ovzdusi2 2023-10-14  BBDNA  13.742857\n",
      "40    data_ovzdusi2 2023-10-14  BBNIA        NaN\n",
      "24    data_ovzdusi2 2023-10-14  BBMSA  43.737500\n",
      "48    data_ovzdusi2 2023-10-14  BBNVA  60.162500\n",
      "16    data_ovzdusi2 2023-10-14  BBMLA  21.700000\n",
      "..              ...        ...    ...        ...\n",
      "63    data_ovzdusi2 2023-10-21  BBNYA   9.075000\n",
      "23    data_ovzdusi2 2023-10-21  BBMLA  20.120000\n",
      "39    data_ovzdusi2 2023-10-21  BBMVA        NaN\n",
      "55    data_ovzdusi2 2023-10-21  BBNVA  10.100000\n",
      "71    data_ovzdusi2 2023-10-21  BBOMA  18.100000\n",
      "\n",
      "[72 rows x 4 columns]\n"
     ]
    }
   ],
   "source": [
    "# Zobrazit prumernou hodnotu NO2 za predchozich 7 dni\n",
    "query = \"\"\"\n",
    "SELECT MEAN(no2_1h) as no2_mean\n",
    "FROM data_ovzdusi2\n",
    "WHERE time > now() - 14d and time < now() - 7d\n",
    "GROUP BY code, time(1d)\n",
    "\"\"\"\n",
    "\n",
    "# Execute the query\n",
    "table = client.query(query=query, database=database, language='influxql') \n",
    "\n",
    "# Convert to dataframe\n",
    "df = table.to_pandas().sort_values(by=\"time\")\n",
    "print(df)"
   ]
  },
  {
   "cell_type": "code",
   "execution_count": 8,
   "metadata": {},
   "outputs": [
    {
     "name": "stdout",
     "output_type": "stream",
     "text": [
      "      code                     name  no2_1h  pm10_1h  pm10_24h  pm2_5_1h  \\\n",
      "148  BBDNA  Brno - Dětská nemocnice    18.2     13.9      11.3       3.4   \n",
      "149  BBDNA  Brno - Dětská nemocnice     9.4      9.8      11.5       6.8   \n",
      "150  BBDNA  Brno - Dětská nemocnice    12.8      6.7      11.2       9.9   \n",
      "151  BBDNA  Brno - Dětská nemocnice    15.7      8.8      11.3       8.7   \n",
      "152  BBDNA  Brno - Dětská nemocnice    16.1     10.5      11.7       5.4   \n",
      "..     ...                      ...     ...      ...       ...       ...   \n",
      "44   BBDNA  Brno - Dětská nemocnice     6.1      8.7      23.4      15.5   \n",
      "45   BBDNA  Brno - Dětská nemocnice     6.9     15.4      23.2       8.1   \n",
      "46   BBDNA  Brno - Dětská nemocnice     7.8     21.0      23.2       4.3   \n",
      "47   BBDNA  Brno - Dětská nemocnice     8.8     17.5      23.2       8.0   \n",
      "48   BBDNA  Brno - Dětská nemocnice     8.4     10.4      23.0       7.0   \n",
      "\n",
      "                   time  \n",
      "148 2023-10-02 10:28:56  \n",
      "149 2023-10-02 13:28:56  \n",
      "150 2023-10-02 14:28:57  \n",
      "151 2023-10-02 15:28:57  \n",
      "152 2023-10-02 19:28:58  \n",
      "..                  ...  \n",
      "44  2023-10-24 13:33:30  \n",
      "45  2023-10-24 14:33:30  \n",
      "46  2023-10-24 15:33:30  \n",
      "47  2023-10-24 16:33:30  \n",
      "48  2023-10-24 17:33:30  \n",
      "\n",
      "[247 rows x 7 columns]\n"
     ]
    }
   ],
   "source": [
    "# Zobrazeni dat pro Detskou nemocnici v Brne\n",
    "query = \"\"\"SELECT *\n",
    "FROM \"data_ovzdusi2\"\n",
    "WHERE\n",
    "time >= now() - interval '30 days'\n",
    "AND\n",
    "(\"no2_1h\" IS NOT NULL)\n",
    "AND\n",
    "\"code\" IN ('BBDNA')\"\"\"\n",
    "\n",
    "# Execute the query\n",
    "table = client.query(query=query, database=database, language='sql') \n",
    "\n",
    "# Convert to dataframe\n",
    "df = table.to_pandas().sort_values(by=\"time\")\n",
    "print(df)\n"
   ]
  },
  {
   "cell_type": "markdown",
   "metadata": {},
   "source": [
    "\n",
    "\n",
    "\n",
    "\n",
    "\n",
    "\n",
    "astat asrtione arstenaritn\n",
    "\n",
    "\n"
   ]
  },
  {
   "cell_type": "markdown",
   "metadata": {},
   "source": []
  }
 ],
 "metadata": {
  "kernelspec": {
   "display_name": "Python 3",
   "language": "python",
   "name": "python3"
  },
  "language_info": {
   "codemirror_mode": {
    "name": "ipython",
    "version": 3
   },
   "file_extension": ".py",
   "mimetype": "text/x-python",
   "name": "python",
   "nbconvert_exporter": "python",
   "pygments_lexer": "ipython3",
   "version": "3.11.5"
  },
  "orig_nbformat": 4
 },
 "nbformat": 4,
 "nbformat_minor": 2
}
