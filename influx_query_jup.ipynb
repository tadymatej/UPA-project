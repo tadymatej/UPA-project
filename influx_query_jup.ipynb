{
 "cells": [
  {
   "cell_type": "code",
   "execution_count": 9,
   "metadata": {},
   "outputs": [],
   "source": [
    "from datetime import datetime, timedelta\n",
    "import seaborn as sns\n",
    "from influxdb_client_3 import InfluxDBClient3, Point, WritePrecision\n",
    "\n",
    "token = \"VHvj7OSCceMdybeuh9V3rYbjnCrC4ZYa1wql-8HTz8Kb50LNueyDXTMcKaKez6vaGP3wu_GSqaiPhworLoa2qQ==\"\n",
    "org = \"UPA\"\n",
    "host = \"https://us-east-1-1.aws.cloud2.influxdata.com\"\n",
    "\n",
    "client = InfluxDBClient3(host=host, token=token, org=org)\n",
    "database = \"UPA\"\n"
   ]
  },
  {
   "cell_type": "code",
   "execution_count": 10,
   "metadata": {},
   "outputs": [
    {
     "name": "stdout",
     "output_type": "stream",
     "text": [
      "       code                     name  no2_1h  pm10_1h  pm10_24h  pm2_5_1h  \\\n",
      "1047  BBNVA     Brno-Úvoz (hot spot)    22.4     13.9      18.8       8.0   \n",
      "962   BBMAA           Brno-Arboretum    20.1     15.5      18.6       9.6   \n",
      "1081  BBOMA             Brno-Komárov    33.1     21.9      24.8      14.7   \n",
      "996   BBMSA        Brno-Svatoplukova    37.7     23.5      25.7      15.8   \n",
      "1064  BBNYA              Brno-Tuřany    26.0     21.2      13.9       6.7   \n",
      "...     ...                      ...     ...      ...       ...       ...   \n",
      "1187  BBNIA               Brno-Líšeň     NaN      5.5      20.1       1.0   \n",
      "1217  BBNYA              Brno-Tuřany     1.0     14.1      19.2       3.4   \n",
      "1157  BBMSA        Brno-Svatoplukova    50.7     18.9      28.1       5.2   \n",
      "1112  BBDNA  Brno - Dětská nemocnice     8.4     10.4      23.0       7.0   \n",
      "1127  BBMAA           Brno-Arboretum     6.3     11.4      20.2       4.7   \n",
      "\n",
      "                    time  \n",
      "1047 2023-09-27 06:32:27  \n",
      "962  2023-09-27 06:32:27  \n",
      "1081 2023-09-27 06:32:27  \n",
      "996  2023-09-27 06:32:27  \n",
      "1064 2023-09-27 06:32:27  \n",
      "...                  ...  \n",
      "1187 2023-10-04 17:33:30  \n",
      "1217 2023-10-04 17:33:30  \n",
      "1157 2023-10-04 17:33:30  \n",
      "1112 2023-10-04 17:33:30  \n",
      "1127 2023-10-04 17:33:30  \n",
      "\n",
      "[1431 rows x 7 columns]\n"
     ]
    }
   ],
   "source": [
    "\n",
    "query = \"\"\"\n",
    "SELECT *\n",
    "FROM \"your_measurement_name\"\n",
    "WHERE\n",
    "time >= now() - interval '30 day' AND time <= now()\n",
    "\"\"\"\n",
    "\n",
    "\n",
    "# Execute the query\n",
    "table = client.query(query=query, database=\"UPA\", language='sql')\n",
    "\n",
    "# Convert to dataframe\n",
    "df = table.to_pandas().sort_values(by=\"time\")\n",
    "print(df)\n"
   ]
  },
  {
   "cell_type": "code",
   "execution_count": null,
   "metadata": {},
   "outputs": [
    {
     "name": "stdout",
     "output_type": "stream",
     "text": [
      "    iox::measurement       time   code  no2_mean\n",
      "0      data_ovzdusi2 2023-09-27  BBDNA       NaN\n",
      "248    data_ovzdusi2 2023-09-27  BBOMA       NaN\n",
      "31     data_ovzdusi2 2023-09-27  BBMAA       NaN\n",
      "155    data_ovzdusi2 2023-09-27  BBNIA       NaN\n",
      "124    data_ovzdusi2 2023-09-27  BBMVA       NaN\n",
      "..               ...        ...    ...       ...\n",
      "123    data_ovzdusi2 2023-10-27  BBMSA       NaN\n",
      "247    data_ovzdusi2 2023-10-27  BBNYA       NaN\n",
      "30     data_ovzdusi2 2023-10-27  BBDNA       NaN\n",
      "185    data_ovzdusi2 2023-10-27  BBNIA       NaN\n",
      "278    data_ovzdusi2 2023-10-27  BBOMA       NaN\n",
      "\n",
      "[279 rows x 4 columns]\n"
     ]
    }
   ],
   "source": [
    "# query = \"\"\"SELECT SUM() AS \"sum_no2_1h\"\n",
    "# FROM \"your_measurement_name\"\n",
    "# WHERE\n",
    "# time >= now() - interval '30 days'\n",
    "# AND\n",
    "# (\"no2_1h\" IS NOT NULL)\n",
    "# \"\"\"\n",
    "\n",
    "query = \"\"\"\n",
    "SELECT MEAN(no2_1h) as no2_mean\n",
    "FROM data_ovzdusi2\n",
    "WHERE time > now() - 30d\n",
    "GROUP BY time(1d), code\n",
    "\"\"\"\n",
    "\n",
    "# query = \"\"\"\n",
    "# SELECT FIRST(time), SECOND(code), time\n",
    "# FROM your_measurement_name\n",
    "# WHERE time > now() - 30d\n",
    "# GROUP BY time(1d)\n",
    "# \"\"\"\n",
    "\n",
    "# query = \"\"\"\n",
    "# SELECT MEAN(no2_1h) FROM your_measurement_name \n",
    "# WHERE time > now() - 30d and code = 'BBDNA'\n",
    "# GROUP BY time(1d)\n",
    "# \"\"\"\n",
    "\n",
    "# SELECT MEAN(\"water_level\") FROM \"h2o_feet\" GROUP BY \"location\"\n",
    "\n",
    "# query = f'from(bucket:\"{database}\") |> range(start: -10m)'\n",
    "\n",
    "# Execute the query\n",
    "table = client.query(query=query, database=database, language='influxql') \n",
    "\n",
    "# Convert to dataframe\n",
    "df = table.to_pandas().sort_values(by=\"time\")\n",
    "print(df)"
   ]
  },
  {
   "cell_type": "code",
   "execution_count": 65,
   "metadata": {},
   "outputs": [
    {
     "name": "stdout",
     "output_type": "stream",
     "text": [
      "    iox::measurement       time   code  no2_mean\n",
      "0      data_ovzdusi2 2023-09-27  BBDNA       NaN\n",
      "248    data_ovzdusi2 2023-09-27  BBOMA       NaN\n",
      "31     data_ovzdusi2 2023-09-27  BBMAA       NaN\n",
      "155    data_ovzdusi2 2023-09-27  BBNIA       NaN\n",
      "124    data_ovzdusi2 2023-09-27  BBMVA       NaN\n",
      "..               ...        ...    ...       ...\n",
      "123    data_ovzdusi2 2023-10-27  BBMSA       NaN\n",
      "247    data_ovzdusi2 2023-10-27  BBNYA       NaN\n",
      "30     data_ovzdusi2 2023-10-27  BBDNA       NaN\n",
      "185    data_ovzdusi2 2023-10-27  BBNIA       NaN\n",
      "278    data_ovzdusi2 2023-10-27  BBOMA       NaN\n",
      "\n",
      "[279 rows x 4 columns]\n"
     ]
    }
   ],
   "source": [
    "# query = \"\"\"SELECT SUM() AS \"sum_no2_1h\"\n",
    "# FROM \"your_measurement_name\"\n",
    "# WHERE\n",
    "# time >= now() - interval '30 days'\n",
    "# AND\n",
    "# (\"no2_1h\" IS NOT NULL)\n",
    "# \"\"\"\n",
    "\n",
    "query = \"\"\"\n",
    "SELECT MEAN(no2_1h) as no2_mean\n",
    "FROM data_ovzdusi2\n",
    "WHERE time > now() - 30d\n",
    "GROUP BY time(1d), code\n",
    "\"\"\"\n",
    "\n",
    "# query = \"\"\"\n",
    "# SELECT FIRST(time), SECOND(code), time\n",
    "# FROM your_measurement_name\n",
    "# WHERE time > now() - 30d\n",
    "# GROUP BY time(1d)\n",
    "# \"\"\"\n",
    "\n",
    "# query = \"\"\"\n",
    "# SELECT MEAN(no2_1h) FROM your_measurement_name \n",
    "# WHERE time > now() - 30d and code = 'BBDNA'\n",
    "# GROUP BY time(1d)\n",
    "# \"\"\"\n",
    "\n",
    "# SELECT MEAN(\"water_level\") FROM \"h2o_feet\" GROUP BY \"location\"\n",
    "\n",
    "# query = f'from(bucket:\"{database}\") |> range(start: -10m)'\n",
    "\n",
    "# Execute the query\n",
    "table = client.query(query=query, database=database, language='influxql') \n",
    "\n",
    "# Convert to dataframe\n",
    "df = table.to_pandas().sort_values(by=\"time\")\n",
    "print(df)"
   ]
  },
  {
   "cell_type": "code",
   "execution_count": 94,
   "metadata": {},
   "outputs": [
    {
     "name": "stdout",
     "output_type": "stream",
     "text": [
      "   iox::measurement       time   code   no2_mean\n",
      "0     data_ovzdusi2 2023-10-13  BBDNA   7.620000\n",
      "40    data_ovzdusi2 2023-10-13  BBNIA        NaN\n",
      "24    data_ovzdusi2 2023-10-13  BBMSA  29.440000\n",
      "48    data_ovzdusi2 2023-10-13  BBNVA  52.740000\n",
      "16    data_ovzdusi2 2023-10-13  BBMLA  14.420000\n",
      "..              ...        ...    ...        ...\n",
      "63    data_ovzdusi2 2023-10-20  BBNYA  22.283333\n",
      "23    data_ovzdusi2 2023-10-20  BBMLA  41.014286\n",
      "39    data_ovzdusi2 2023-10-20  BBMVA        NaN\n",
      "55    data_ovzdusi2 2023-10-20  BBNVA  30.733333\n",
      "71    data_ovzdusi2 2023-10-20  BBOMA  31.128571\n",
      "\n",
      "[72 rows x 4 columns]\n"
     ]
    }
   ],
   "source": [
    "\n",
    "\n",
    "query = \"\"\"\n",
    "SELECT MEAN(no2_1h) as no2_mean\n",
    "FROM data_ovzdusi2\n",
    "WHERE time > now() - 14d and time < now() - 7d\n",
    "GROUP BY code, time(1d)\n",
    "\"\"\"\n",
    "\n",
    "# Execute the query\n",
    "table = client.query(query=query, database=database, language='influxql') \n",
    "\n",
    "# Convert to dataframe\n",
    "df = table.to_pandas().sort_values(by=\"time\")\n",
    "print(df)"
   ]
  },
  {
   "cell_type": "code",
   "execution_count": null,
   "metadata": {},
   "outputs": [
    {
     "name": "stdout",
     "output_type": "stream",
     "text": [
      "     code                     name  no2_1h  pm10_1h  pm10_24h  pm2_5_1h  \\\n",
      "90  BBDNA  Brno - Dětská nemocnice     4.8     11.1       5.9       2.2   \n",
      "91  BBDNA  Brno - Dětská nemocnice     3.8      5.6       5.5       3.0   \n",
      "92  BBDNA  Brno - Dětská nemocnice     3.8      6.1       5.4       2.2   \n",
      "34  BBDNA  Brno - Dětská nemocnice     3.1      6.9       5.7       5.7   \n",
      "35  BBDNA  Brno - Dětská nemocnice    37.3      8.8       6.3       6.2   \n",
      "..    ...                      ...     ...      ...       ...       ...   \n",
      "85  BBDNA  Brno - Dětská nemocnice     6.1      8.7      23.4      15.5   \n",
      "86  BBDNA  Brno - Dětská nemocnice     6.9     15.4      23.2       8.1   \n",
      "87  BBDNA  Brno - Dětská nemocnice     7.8     21.0      23.2       4.3   \n",
      "88  BBDNA  Brno - Dětská nemocnice     8.8     17.5      23.2       8.0   \n",
      "89  BBDNA  Brno - Dětská nemocnice     8.4     10.4      23.0       7.0   \n",
      "\n",
      "                  time  \n",
      "90 2023-09-16 14:30:47  \n",
      "91 2023-09-16 20:30:48  \n",
      "92 2023-09-16 21:30:48  \n",
      "34 2023-09-17 01:30:49  \n",
      "35 2023-09-17 05:30:50  \n",
      "..                 ...  \n",
      "85 2023-10-04 13:33:30  \n",
      "86 2023-10-04 14:33:30  \n",
      "87 2023-10-04 15:33:30  \n",
      "88 2023-10-04 16:33:30  \n",
      "89 2023-10-04 17:33:30  \n",
      "\n",
      "[212 rows x 7 columns]\n"
     ]
    }
   ],
   "source": [
    "query = \"\"\"SELECT *\n",
    "FROM \"your_measurement_name\"\n",
    "WHERE\n",
    "time >= now() - interval '30 days'\n",
    "AND\n",
    "(\"no2_1h\" IS NOT NULL)\n",
    "AND\n",
    "\"code\" IN ('BBDNA')\"\"\"\n",
    "\n",
    "# Execute the query\n",
    "table = client.query(query=query, database=database, language='sql') \n",
    "\n",
    "# Convert to dataframe\n",
    "df = table.to_pandas().sort_values(by=\"time\")\n",
    "print(df)\n"
   ]
  },
  {
   "cell_type": "code",
   "execution_count": null,
   "metadata": {},
   "outputs": [
    {
     "ename": "ArrowInvalid",
     "evalue": "Flight returned invalid argument error, with message: Error while planning query: SQL error: ParserError(\"Expected ), found: d\"). gRPC client debug context: UNKNOWN:Error received from peer ipv4:34.196.233.7:443 {created_time:\"2023-10-26T19:35:53.169367+02:00\", grpc_status:3, grpc_message:\"Error while planning query: SQL error: ParserError(\\\"Expected ), found: d\\\")\"}. Client context: IOError: Server never sent a data message. Detail: Internal",
     "output_type": "error",
     "traceback": [
      "\u001b[0;31m---------------------------------------------------------------------------\u001b[0m",
      "\u001b[0;31mArrowInvalid\u001b[0m                              Traceback (most recent call last)",
      "\u001b[1;32m/Users/janzimola/Documents/VUT/UPA-project/influx_query_jup.ipynb Cell 5\u001b[0m line \u001b[0;36m1\n\u001b[1;32m      <a href='vscode-notebook-cell:/Users/janzimola/Documents/VUT/UPA-project/influx_query_jup.ipynb#W4sZmlsZQ%3D%3D?line=0'>1</a>\u001b[0m query \u001b[39m=\u001b[39m \u001b[39m\"\"\"\u001b[39m\u001b[39mSELECT code, name, no2_1h, time\u001b[39m\n\u001b[1;32m      <a href='vscode-notebook-cell:/Users/janzimola/Documents/VUT/UPA-project/influx_query_jup.ipynb#W4sZmlsZQ%3D%3D?line=1'>2</a>\u001b[0m \u001b[39mFROM \u001b[39m\u001b[39m\"\u001b[39m\u001b[39myour_measurement_name\u001b[39m\u001b[39m\"\u001b[39m\n\u001b[1;32m      <a href='vscode-notebook-cell:/Users/janzimola/Documents/VUT/UPA-project/influx_query_jup.ipynb#W4sZmlsZQ%3D%3D?line=2'>3</a>\u001b[0m \u001b[39mWHERE\u001b[39m\n\u001b[0;32m   (...)\u001b[0m\n\u001b[1;32m      <a href='vscode-notebook-cell:/Users/janzimola/Documents/VUT/UPA-project/influx_query_jup.ipynb#W4sZmlsZQ%3D%3D?line=8'>9</a>\u001b[0m \u001b[39mGROUP BY time(1d)\u001b[39m\n\u001b[1;32m     <a href='vscode-notebook-cell:/Users/janzimola/Documents/VUT/UPA-project/influx_query_jup.ipynb#W4sZmlsZQ%3D%3D?line=9'>10</a>\u001b[0m \u001b[39mLIMIT 20\u001b[39m\u001b[39m\"\"\"\u001b[39m\n\u001b[1;32m     <a href='vscode-notebook-cell:/Users/janzimola/Documents/VUT/UPA-project/influx_query_jup.ipynb#W4sZmlsZQ%3D%3D?line=12'>13</a>\u001b[0m \u001b[39m# Execute the query\u001b[39;00m\n\u001b[0;32m---> <a href='vscode-notebook-cell:/Users/janzimola/Documents/VUT/UPA-project/influx_query_jup.ipynb#W4sZmlsZQ%3D%3D?line=13'>14</a>\u001b[0m table \u001b[39m=\u001b[39m client\u001b[39m.\u001b[39;49mquery(query\u001b[39m=\u001b[39;49mquery, database\u001b[39m=\u001b[39;49mdatabase, language\u001b[39m=\u001b[39;49m\u001b[39m'\u001b[39;49m\u001b[39msql\u001b[39;49m\u001b[39m'\u001b[39;49m) \n\u001b[1;32m     <a href='vscode-notebook-cell:/Users/janzimola/Documents/VUT/UPA-project/influx_query_jup.ipynb#W4sZmlsZQ%3D%3D?line=15'>16</a>\u001b[0m \u001b[39m# Convert to dataframe\u001b[39;00m\n\u001b[1;32m     <a href='vscode-notebook-cell:/Users/janzimola/Documents/VUT/UPA-project/influx_query_jup.ipynb#W4sZmlsZQ%3D%3D?line=16'>17</a>\u001b[0m df \u001b[39m=\u001b[39m table\u001b[39m.\u001b[39mto_pandas()\u001b[39m.\u001b[39msort_values(by\u001b[39m=\u001b[39m\u001b[39m\"\u001b[39m\u001b[39mtime\u001b[39m\u001b[39m\"\u001b[39m)\n",
      "File \u001b[0;32m~/Documents/VUT/UPA-project/.venv/lib/python3.11/site-packages/influxdb_client_3/__init__.py:215\u001b[0m, in \u001b[0;36mInfluxDBClient3.query\u001b[0;34m(self, query, language, mode, database, **kwargs)\u001b[0m\n\u001b[1;32m    213\u001b[0m     \u001b[39mreturn\u001b[39;00m mode_func() \u001b[39mif\u001b[39;00m \u001b[39mcallable\u001b[39m(mode_func) \u001b[39melse\u001b[39;00m mode_func\n\u001b[1;32m    214\u001b[0m \u001b[39mexcept\u001b[39;00m \u001b[39mException\u001b[39;00m \u001b[39mas\u001b[39;00m e:\n\u001b[0;32m--> 215\u001b[0m     \u001b[39mraise\u001b[39;00m e\n",
      "File \u001b[0;32m~/Documents/VUT/UPA-project/.venv/lib/python3.11/site-packages/influxdb_client_3/__init__.py:203\u001b[0m, in \u001b[0;36mInfluxDBClient3.query\u001b[0;34m(self, query, language, mode, database, **kwargs)\u001b[0m\n\u001b[1;32m    201\u001b[0m ticket_data \u001b[39m=\u001b[39m {\u001b[39m\"\u001b[39m\u001b[39mdatabase\u001b[39m\u001b[39m\"\u001b[39m: database, \u001b[39m\"\u001b[39m\u001b[39msql_query\u001b[39m\u001b[39m\"\u001b[39m: query, \u001b[39m\"\u001b[39m\u001b[39mquery_type\u001b[39m\u001b[39m\"\u001b[39m: language}\n\u001b[1;32m    202\u001b[0m ticket \u001b[39m=\u001b[39m Ticket(json\u001b[39m.\u001b[39mdumps(ticket_data)\u001b[39m.\u001b[39mencode(\u001b[39m'\u001b[39m\u001b[39mutf-8\u001b[39m\u001b[39m'\u001b[39m))\n\u001b[0;32m--> 203\u001b[0m flight_reader \u001b[39m=\u001b[39m \u001b[39mself\u001b[39;49m\u001b[39m.\u001b[39;49m_flight_client\u001b[39m.\u001b[39;49mdo_get(ticket, _options)\n\u001b[1;32m    205\u001b[0m mode_func \u001b[39m=\u001b[39m {\n\u001b[1;32m    206\u001b[0m     \u001b[39m\"\u001b[39m\u001b[39mall\u001b[39m\u001b[39m\"\u001b[39m: flight_reader\u001b[39m.\u001b[39mread_all,\n\u001b[1;32m    207\u001b[0m     \u001b[39m\"\u001b[39m\u001b[39mpandas\u001b[39m\u001b[39m\"\u001b[39m: flight_reader\u001b[39m.\u001b[39mread_pandas,\n\u001b[0;32m   (...)\u001b[0m\n\u001b[1;32m    210\u001b[0m     \u001b[39m\"\u001b[39m\u001b[39mschema\u001b[39m\u001b[39m\"\u001b[39m: \u001b[39mlambda\u001b[39;00m: flight_reader\u001b[39m.\u001b[39mschema\n\u001b[1;32m    211\u001b[0m }\u001b[39m.\u001b[39mget(mode, flight_reader\u001b[39m.\u001b[39mread_all)\n\u001b[1;32m    213\u001b[0m \u001b[39mreturn\u001b[39;00m mode_func() \u001b[39mif\u001b[39;00m \u001b[39mcallable\u001b[39m(mode_func) \u001b[39melse\u001b[39;00m mode_func\n",
      "File \u001b[0;32m~/Documents/VUT/UPA-project/.venv/lib/python3.11/site-packages/pyarrow/_flight.pyx:1560\u001b[0m, in \u001b[0;36mpyarrow._flight.FlightClient.do_get\u001b[0;34m()\u001b[0m\n",
      "File \u001b[0;32m~/Documents/VUT/UPA-project/.venv/lib/python3.11/site-packages/pyarrow/_flight.pyx:78\u001b[0m, in \u001b[0;36mpyarrow._flight.check_flight_status\u001b[0;34m()\u001b[0m\n",
      "File \u001b[0;32m~/Documents/VUT/UPA-project/.venv/lib/python3.11/site-packages/pyarrow/error.pxi:100\u001b[0m, in \u001b[0;36mpyarrow.lib.check_status\u001b[0;34m()\u001b[0m\n",
      "\u001b[0;31mArrowInvalid\u001b[0m: Flight returned invalid argument error, with message: Error while planning query: SQL error: ParserError(\"Expected ), found: d\"). gRPC client debug context: UNKNOWN:Error received from peer ipv4:34.196.233.7:443 {created_time:\"2023-10-26T19:35:53.169367+02:00\", grpc_status:3, grpc_message:\"Error while planning query: SQL error: ParserError(\\\"Expected ), found: d\\\")\"}. Client context: IOError: Server never sent a data message. Detail: Internal"
     ]
    }
   ],
   "source": [
    "query = \"\"\"SELECT code, name, no2_1h, time\n",
    "FROM \"your_measurement_name\"\n",
    "WHERE\n",
    "time >= now() - interval '30 days'\n",
    "AND\n",
    "(\"no2_1h\" IS NOT NULL)\n",
    "AND\n",
    "\"code\" IN ('BBDNA')\n",
    "GROUP BY time(1d)\n",
    "LIMIT 20\"\"\"\n",
    "\n",
    "\n",
    "# Execute the query\n",
    "table = client.query(query=query, database=database, language='sql') \n",
    "\n",
    "\n",
    "# Convert to dataframe\n",
    "df = table.to_pandas().sort_values(by=\"time\")\n",
    "\n",
    "print(df)\n",
    "\n",
    "\n",
    "\n",
    "\n",
    "\n",
    "\n",
    "sns.lineplot(data=df, x=\"time\",  y=\"no2_1h\")\n"
   ]
  },
  {
   "cell_type": "code",
   "execution_count": null,
   "metadata": {},
   "outputs": [],
   "source": []
  },
  {
   "cell_type": "markdown",
   "metadata": {},
   "source": [
    "\n",
    "\n",
    "\n",
    "\n",
    "\n",
    "\n",
    "astat asrtione arstenaritn\n",
    "\n",
    "\n"
   ]
  },
  {
   "cell_type": "markdown",
   "metadata": {},
   "source": []
  }
 ],
 "metadata": {
  "kernelspec": {
   "display_name": "Python 3",
   "language": "python",
   "name": "python3"
  },
  "language_info": {
   "codemirror_mode": {
    "name": "ipython",
    "version": 3
   },
   "file_extension": ".py",
   "mimetype": "text/x-python",
   "name": "python",
   "nbconvert_exporter": "python",
   "pygments_lexer": "ipython3",
   "version": "3.11.5"
  },
  "orig_nbformat": 4
 },
 "nbformat": 4,
 "nbformat_minor": 2
}
