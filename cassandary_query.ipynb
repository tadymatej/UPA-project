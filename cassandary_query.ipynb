{
 "cells": [
  {
   "cell_type": "code",
   "execution_count": 1,
   "metadata": {},
   "outputs": [
    {
     "data": {
      "text/plain": [
       "<cassandra.cluster.ResultSet at 0x10713e390>"
      ]
     },
     "execution_count": 1,
     "metadata": {},
     "output_type": "execute_result"
    }
   ],
   "source": [
    "import json\n",
    "\n",
    "from cassandra.auth import PlainTextAuthProvider\n",
    "from cassandra.cluster import Cluster\n",
    "\n",
    "# Your JSON data\n",
    "json_data = {\n",
    "    \"type\": \"FeatureCollection\",\n",
    "    \"name\": \"firmy_firmy\",\n",
    "    # ... (the rest of your JSON)\n",
    "}\n",
    "\n",
    "with open('Firmy_v_Brno.geojson', 'r') as file:\n",
    "    json_data = json.load(file)\n",
    "\n",
    "ASTRA_DB_APPLICATION_TOKEN = \"\"\n",
    "ASTRA_TOKEN_PATH = 'UPA-token4.json'\n",
    "with open(ASTRA_TOKEN_PATH, \"r\") as f:\n",
    "    creds = json.load(f)\n",
    "    ASTRA_DB_APPLICATION_TOKEN = creds[\"token\"]\n",
    "# Function to extract properties from the JSON\n",
    "\n",
    "\n",
    "def extract_properties(data):\n",
    "    properties_list = []\n",
    "    features = data.get(\"features\", [])\n",
    "    for feature in features:\n",
    "        properties = feature.get(\"properties\", {})\n",
    "        properties_list.append(properties)\n",
    "    return properties_list\n",
    "\n",
    "\n",
    "# Extract properties from the JSON\n",
    "properties_data = extract_properties(json_data)\n",
    "\n",
    "\n",
    "cluster = Cluster(cloud={\n",
    "    \"secure_connect_bundle\": \"/Users/janzimola/Documents/VUT/UPA-project/secure-connect-upa.zip\",\n",
    "},\n",
    "    auth_provider=PlainTextAuthProvider(\n",
    "    \"token\",\n",
    "    ASTRA_DB_APPLICATION_TOKEN,\n",
    "),)\n",
    "session = cluster.connect(\"bamboo\")\n",
    "\n",
    "# Connect to the Cassandra cluster\n",
    "# cluster = Cluster(['localhost'])  # Replace with your Cassandra cluster address\n",
    "\n",
    "# # Create a session and keyspace\n",
    "# session = cluster.connect()\n",
    "# session.execute(\n",
    "#     \"CREATE KEYSPACE IF NOT EXISTS bamboo WITH replication = {'class': 'SimpleStrategy', 'replication_factor': 1}\")\n",
    "session.execute(\"USE bamboo\")"
   ]
  },
  {
   "cell_type": "code",
   "execution_count": 11,
   "metadata": {},
   "outputs": [
    {
     "name": "stdout",
     "output_type": "stream",
     "text": [
      "name: Centrum Kociánka, adresa: Kociánka 93/2\n",
      "name: 4pokoje, s.r.o., adresa: Vachova 45/6\n",
      "name: AG Foods Group, a.s., adresa: Škrobárenská 506/2\n",
      "name: Brno - Transport, s.r.o., adresa: Vídeňská 538/91\n",
      "name: CYRRUS, a.s., adresa: Veveří 3163/111\n",
      "name: ABC - American Bohemian Corporation,, adresa: Ledárenská 408/57\n",
      "name: DDA, a.s., adresa: Šámalova 307/25\n",
      "name: Crystal stores, s.r.o., adresa: Jakubská 121/1\n",
      "name: AEROSERVIS, s.r.o., adresa: Letiště Brno-Tuřany 904/1\n",
      "name: Adolf Zeman, adresa: Josefská 493/4\n",
      "name: Agora plus, a.s., adresa: Řípská 1321/11c\n",
      "name: ATW Brno, s.r.o., adresa: Kuřimská 1503/42\n",
      "name: Antos Manufaktura, s.r.o., adresa: Lidická 700/19\n",
      "name: Cb&i, s.r.o., adresa: Holandská 874/8\n",
      "name: Dieptrang Fashion, s.r.o., adresa: Na Lukách 3325/9\n",
      "name: Centrum pro Zdraví - Kardiologie, s.r.o., adresa: Hlinky 48/122\n",
      "name: COM Group, a.s., adresa: Tuřanka 1222/115\n",
      "name: ARTAX, a.s., adresa: Karásek 2255/1e\n",
      "name: Constructstav, s.r.o., adresa: Křídlovická 359/58\n",
      "name: Antalya Kebap, s.r.o., adresa: Štefánikova 95/24\n"
     ]
    }
   ],
   "source": [
    "#   objectid INT PRIMARY KEY,\n",
    "#         name TEXT,\n",
    "#         adresa TEXT,\n",
    "#         foundation_year INT,\n",
    "#         employees TEXT,\n",
    "#         turnover_in_czk TEXT,\n",
    "#         website TEXT,\n",
    "#         odvetvi TEXT,\n",
    "#         industry TEXT,\n",
    "#         address TEXT,\n",
    "#         city TEXT,\n",
    "#         latitude DOUBLE,\n",
    "#         longitude DOUBLE,\n",
    "#         globalid TEXT\n",
    "\n",
    "res = session.execute(\"Select name, adresa from bamboo.firmy LIMIT 20\")\n",
    "for row in res:\n",
    "    print(f\"name: {row.name}, adresa: {row.adresa}\")"
   ]
  },
  {
   "cell_type": "code",
   "execution_count": null,
   "metadata": {},
   "outputs": [],
   "source": [
    "res = session.execute(\"Select name, adresa from bamboo.firmy LIMIT 20\")\n",
    "for row in res:\n",
    "    print(f\"name: {row.name}, adresa: {row.adresa}\")"
   ]
  },
  {
   "cell_type": "code",
   "execution_count": null,
   "metadata": {},
   "outputs": [],
   "source": []
  }
 ],
 "metadata": {
  "kernelspec": {
   "display_name": ".venv",
   "language": "python",
   "name": "python3"
  },
  "language_info": {
   "codemirror_mode": {
    "name": "ipython",
    "version": 3
   },
   "file_extension": ".py",
   "mimetype": "text/x-python",
   "name": "python",
   "nbconvert_exporter": "python",
   "pygments_lexer": "ipython3",
   "version": "3.11.5"
  },
  "orig_nbformat": 4
 },
 "nbformat": 4,
 "nbformat_minor": 2
}
